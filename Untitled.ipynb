{
 "cells": [
  {
   "cell_type": "markdown",
   "id": "bc743103",
   "metadata": {},
   "source": [
    "### Test 1\n",
    "Test for naive simulated annealing."
   ]
  },
  {
   "cell_type": "code",
   "execution_count": null,
   "id": "3ddc05dc",
   "metadata": {},
   "outputs": [],
   "source": [
    "using Random\n",
    "using Plots\n",
    "# gr(show = :ijulia)\n",
    "include(\"tensor_network.jl\")\n",
    "include(\"contraction_tree.jl\")\n",
    "include(\"simulated_annealing.jl\")\n",
    "include(\"utils.jl\")\n",
    "include(\"greedy.jl\")"
   ]
  },
  {
   "cell_type": "code",
   "execution_count": null,
   "id": "993829b5",
   "metadata": {},
   "outputs": [],
   "source": [
    "tn = graph_read_from_edges(\"test/Sycamore_53_20.txt\")\n",
    "@time begin\n",
    "    order = greedy_local(tn)\n",
    "end\n",
    "ct = order_to_CTree(tn,order)\n",
    "println(ct.complex.*log10(2))"
   ]
  },
  {
   "cell_type": "markdown",
   "id": "8561d0be",
   "metadata": {},
   "source": [
    "setting: $\\beta=2000.0$,$L=500000$ \n",
    "\n",
    "result: \n",
    "- time = 354.529311 seconds\n",
    "- complex = [16.557, 18.7645]"
   ]
  },
  {
   "cell_type": "code",
   "execution_count": null,
   "id": "7fb1bae7",
   "metadata": {
    "scrolled": true
   },
   "outputs": [],
   "source": [
    "optimal_arg = [50000]\n",
    "@time begin\n",
    "    simulated_annealing!(ct,200.0,\"normal\";optimal_arg)\n",
    "end"
   ]
  },
  {
   "cell_type": "code",
   "execution_count": null,
   "id": "ef954f7c",
   "metadata": {},
   "outputs": [],
   "source": [
    "println(ct.complex.*log10(2))"
   ]
  },
  {
   "cell_type": "markdown",
   "id": "923a72f1",
   "metadata": {},
   "source": [
    "settings: $\\beta = 0.99^{-n}$, $L=2000$, $n=1,2\\dots 1000$\n",
    "\n",
    "results:\n",
    "- time = 1464.738110 seconds\n",
    "- complex = [15.955, 18.455]"
   ]
  },
  {
   "cell_type": "code",
   "execution_count": null,
   "id": "f37bbcbc",
   "metadata": {
    "scrolled": true
   },
   "outputs": [],
   "source": [
    "betas = [0.99^(-n) for n=1:1000]\n",
    "L = 2000\n",
    "@time begin\n",
    "    simulated_annealing!(ct,betas,L)\n",
    "end"
   ]
  },
  {
   "cell_type": "code",
   "execution_count": null,
   "id": "802f7d24",
   "metadata": {
    "scrolled": false
   },
   "outputs": [],
   "source": [
    "@time begin\n",
    "    CTree_to_order(ct,ct.root)\n",
    "    update_complex!(ct)\n",
    "end\n",
    "println(ct.complex.*log10(2))"
   ]
  },
  {
   "cell_type": "markdown",
   "id": "39e7a008",
   "metadata": {},
   "source": [
    "### Test 2\n",
    "Test greedy alg."
   ]
  },
  {
   "cell_type": "code",
   "execution_count": null,
   "id": "a6ea478e",
   "metadata": {},
   "outputs": [],
   "source": [
    "using Random\n",
    "using Plots\n",
    "gr(show = :ijulia)\n",
    "include(\"tensor_network.jl\")\n",
    "include(\"contraction_tree.jl\")\n",
    "include(\"simulated_annealing.jl\")\n",
    "include(\"utils.jl\")\n",
    "include(\"greedy.jl\")"
   ]
  },
  {
   "cell_type": "code",
   "execution_count": null,
   "id": "3e1ced0b",
   "metadata": {},
   "outputs": [],
   "source": [
    "tn = graph_read_from_edges(\"test/Sycamore_53_18.txt\")\n",
    "@time begin\n",
    "    min_sc_order, min_tc_order,orders = greedy_orders(tn,\"mindim\",\"mindimtri\",100)\n",
    "end\n",
    "ct = order_to_CTree(tn,min_tc_order[1])\n",
    "println(ct.complex[1],ct.complex[2]*log10(2))\n",
    "println(tn.n,\"\\t\",length(tn.edges))\n",
    "\n",
    "βs = [log(1+2n) for n=1:200]\n",
    "L = 20\n",
    "c = 30\n",
    "n_orders = 10\n",
    "optimal_type = \"greedy\"\n",
    "optimal_arg = [L,c,n_orders]\n",
    "sc_target = 100 # sc_target = 31 for V100\n",
    "nslice = 0"
   ]
  },
  {
   "cell_type": "code",
   "execution_count": null,
   "id": "a417a0ac",
   "metadata": {
    "scrolled": false
   },
   "outputs": [],
   "source": [
    "@time begin\n",
    "    fn_min,min_fn_order,min_fn_slice = simulated_annealing!(ct,tn,βs,optimal_type;optimal_arg,sc_target,nslice)\n",
    "end\n",
    "#fn_min,min_fn_order = simulated_annealing!(ct,betas,optimal_type;optimal_arg)"
   ]
  },
  {
   "cell_type": "code",
   "execution_count": null,
   "id": "57e1d32b",
   "metadata": {
    "scrolled": true
   },
   "outputs": [],
   "source": [
    "update_complex!(ct,ct.nodes[ct.root])\n",
    "sc = ct.nodes[ct.root].complex[1]\n",
    "tc = ct.nodes[ct.root].complex[2]*log10(2)\n",
    "n = length(min_fn_slice)\n",
    "println(\"sc = $sc, tc = $tc, #slice = $n\")\n",
    "#println(ct.nodes[ct.root].complex[1].*log10(2))\n",
    "#log2sumexp([node.tc for node in collect(values(ct.nodes))])*log10(2)\n",
    "println(10^fn_min)"
   ]
  },
  {
   "cell_type": "code",
   "execution_count": 3,
   "id": "71cc5bef",
   "metadata": {},
   "outputs": [
    {
     "name": "stdout",
     "output_type": "stream",
     "text": [
      "iteration 1.\n",
      "iteration 2.\n",
      "iteration 3.\n",
      "iteration 4.\n",
      "iteration 5.\n",
      "iteration 6.\n",
      "iteration 7.\n",
      "iteration 8.\n",
      "iteration 9.\n",
      "iteration 10.\n",
      "iteration 11.\n",
      "iteration 12.\n",
      "iteration 13.\n",
      "iteration 14.\n",
      "iteration 15.\n",
      "iteration 16.\n",
      "iteration 17.\n",
      "iteration 18.\n",
      "iteration 19.\n",
      "iteration 20.\n"
     ]
    }
   ],
   "source": [
    "include(\"tensor_network.jl\")\n",
    "include(\"contraction_tree.jl\")\n",
    "include(\"simulated_annealing.jl\")\n",
    "include(\"utils.jl\")\n",
    "include(\"greedy.jl\")\n",
    "\n",
    "min_fn_list = []\n",
    "slice_list = []\n",
    "βs = [log(1+2n) for n=1:200]\n",
    "L = 20\n",
    "c = 15\n",
    "n_orders = 10\n",
    "optimal_type = \"greedy\"\n",
    "optimal_arg = [L,c,n_orders]\n",
    "sc_target = 100 # sc_target = 31 for V100\n",
    "nslice = 0\n",
    "for i = 1:20\n",
    "    println(\"iteration $i.\")\n",
    "    tn = graph_read_from_edges(\"test/Sycamore_53_12.txt\")\n",
    "    min_sc_order, min_tc_order,orders = greedy_orders(tn,\"mindim\",\"mindimtri\",100)\n",
    "    ct = order_to_CTree(tn,min_tc_order[1])\n",
    "    fn_min,min_fn_order,min_fn_slice = simulated_annealing!(ct,tn,βs,optimal_type;optimal_arg,sc_target,nslice)\n",
    "    push!(min_fn_list,fn_min)\n",
    "    push!(slice_list,min_fn_slice)\n",
    "end"
   ]
  },
  {
   "cell_type": "code",
   "execution_count": 4,
   "id": "4e02d8b2",
   "metadata": {},
   "outputs": [
    {
     "name": "stdout",
     "output_type": "stream",
     "text": [
      "tc = 1.147714040574993e13, n = 0.\n"
     ]
    }
   ],
   "source": [
    "idx = argmin(min_fn_list)\n",
    "tc = 10^min_fn_list[idx]\n",
    "slice = slice_list[idx]\n",
    "n = length(slice)\n",
    "println(\"tc = $tc, n = $n.\")"
   ]
  },
  {
   "cell_type": "markdown",
   "id": "cf8a087f",
   "metadata": {},
   "source": [
    "### Test 3\n",
    "contraction with sparse state."
   ]
  },
  {
   "cell_type": "code",
   "execution_count": null,
   "id": "b3e89dce",
   "metadata": {},
   "outputs": [],
   "source": [
    "using Random\n",
    "using Plots\n",
    "gr(show = :ijulia)\n",
    "include(\"tensor_network.jl\")\n",
    "include(\"contraction_tree.jl\")\n",
    "include(\"simulated_annealing.jl\")\n",
    "include(\"utils.jl\")\n",
    "include(\"greedy.jl\")\n",
    "include(\"quantum_circuit.jl\")"
   ]
  },
  {
   "cell_type": "code",
   "execution_count": null,
   "id": "d9d6f853",
   "metadata": {},
   "outputs": [],
   "source": [
    "n_qubits = 53\n",
    "sequences = generate_random_sequences(n_qubits,100)\n",
    "qc = graph_with_sparse_state(\"test/Sycamore_53_20.txt\",n_qubits,sequences)\n",
    "@time begin\n",
    "    min_sc_order, min_tc_order,orders = greedy_orders(qc.G,\"mindim\",\"mindimtri\",50)\n",
    "end\n",
    "print(qc.G.n)"
   ]
  }
 ],
 "metadata": {
  "kernelspec": {
   "display_name": "Julia 1.7.2",
   "language": "julia",
   "name": "julia-1.7"
  },
  "language_info": {
   "file_extension": ".jl",
   "mimetype": "application/julia",
   "name": "julia",
   "version": "1.7.2"
  }
 },
 "nbformat": 4,
 "nbformat_minor": 5
}
