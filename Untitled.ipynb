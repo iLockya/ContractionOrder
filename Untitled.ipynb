{
 "cells": [
  {
   "cell_type": "code",
   "execution_count": null,
   "id": "3ddc05dc",
   "metadata": {},
   "outputs": [],
   "source": [
    "using Random\n",
    "using Plots\n",
    "# gr(show = :ijulia)\n",
    "include(\"tensor_network.jl\")\n",
    "include(\"contraction_tree.jl\")\n",
    "include(\"simulated_annealing.jl\")\n",
    "include(\"utils.jl\")\n",
    "include(\"greedy.jl\")"
   ]
  },
  {
   "cell_type": "markdown",
   "id": "bc743103",
   "metadata": {},
   "source": [
    "### Test 1\n",
    "Test for naive simulated annealing."
   ]
  },
  {
   "cell_type": "code",
   "execution_count": null,
   "id": "993829b5",
   "metadata": {},
   "outputs": [],
   "source": [
    "tn = graph_read_from_edges(\"test/Sycamore_53_20.txt\")\n",
    "@time begin\n",
    "    order = greedy_local(tn)\n",
    "end\n",
    "ct = order_to_CTree(tn,order)\n",
    "println(ct.complex.*log10(2))"
   ]
  },
  {
   "cell_type": "markdown",
   "id": "8561d0be",
   "metadata": {},
   "source": [
    "setting: $\\beta=2000.0$,$L=500000$ \n",
    "\n",
    "result: \n",
    "- time = 354.529311 seconds\n",
    "- complex = [16.557, 18.7645]"
   ]
  },
  {
   "cell_type": "code",
   "execution_count": null,
   "id": "7fb1bae7",
   "metadata": {
    "scrolled": true
   },
   "outputs": [],
   "source": [
    "optimal_arg = [50000]\n",
    "@time begin\n",
    "    simulated_annealing!(ct,200.0,\"normal\";optimal_arg)\n",
    "end"
   ]
  },
  {
   "cell_type": "code",
   "execution_count": null,
   "id": "ef954f7c",
   "metadata": {},
   "outputs": [],
   "source": [
    "println(ct.complex.*log10(2))"
   ]
  },
  {
   "cell_type": "markdown",
   "id": "923a72f1",
   "metadata": {},
   "source": [
    "settings: $\\beta = 0.99^{-n}$, $L=2000$, $n=1,2\\dots 1000$\n",
    "\n",
    "results:\n",
    "- time = 1464.738110 seconds\n",
    "- complex = [15.955, 18.455]"
   ]
  },
  {
   "cell_type": "code",
   "execution_count": null,
   "id": "f37bbcbc",
   "metadata": {
    "scrolled": true
   },
   "outputs": [],
   "source": [
    "betas = [0.99^(-n) for n=1:1000]\n",
    "L = 2000\n",
    "@time begin\n",
    "    simulated_annealing!(ct,betas,L)\n",
    "end"
   ]
  },
  {
   "cell_type": "code",
   "execution_count": null,
   "id": "802f7d24",
   "metadata": {
    "scrolled": false
   },
   "outputs": [],
   "source": [
    "@time begin\n",
    "    CTree_to_order(ct,ct.root)\n",
    "    update_complex!(ct)\n",
    "end\n",
    "println(ct.complex.*log10(2))"
   ]
  },
  {
   "cell_type": "markdown",
   "id": "994a4ec6",
   "metadata": {},
   "source": [
    "### Test 2\n",
    "Test for traversal order."
   ]
  },
  {
   "cell_type": "code",
   "execution_count": null,
   "id": "3f0cfe27",
   "metadata": {},
   "outputs": [],
   "source": [
    "tn = graph_read_from_edges(\"test/Sycamore_53_12.txt\")\n",
    "order = greedy_local(tn)\n",
    "ct = order_to_CTree(tn,order)\n",
    "betas = [0.95^(-n) for n=1:200]\n",
    "L = 10\n",
    "println(ct.complex.*log10(2))"
   ]
  },
  {
   "cell_type": "code",
   "execution_count": null,
   "id": "6449ebbf",
   "metadata": {
    "scrolled": true
   },
   "outputs": [],
   "source": [
    "@time begin\n",
    "    simulated_annealing!(ct,betas,L)\n",
    "end\n",
    "update_complex!(ct,ct.nodes[ct.root])\n",
    "println(ct.complex.*log10(2))"
   ]
  },
  {
   "cell_type": "code",
   "execution_count": null,
   "id": "bd9a5974",
   "metadata": {},
   "outputs": [],
   "source": [
    "2^ct.complex[2]"
   ]
  },
  {
   "cell_type": "code",
   "execution_count": null,
   "id": "4cfdc5fd",
   "metadata": {},
   "outputs": [],
   "source": [
    "dims = [get_node_dim(ct,node) for node in collect(values(ct.nodes))]\n",
    "sizes = [length(node.id) for node in collect(values(ct.nodes))]\n",
    "sort!(sizes)\n",
    "sort!(dims)\n",
    "println(dims)\n",
    "println(sizes)\n",
    "#[node for node in collect(values(ct.nodes))]"
   ]
  },
  {
   "cell_type": "code",
   "execution_count": null,
   "id": "600871d1",
   "metadata": {},
   "outputs": [],
   "source": [
    "function get_depth(ct::Contraction_Tree,node::CTree_Node)\n",
    "    node.id == ct.root && return 1\n",
    "    return get_depth(ct,get_father(ct,node))+1\n",
    "end"
   ]
  },
  {
   "cell_type": "code",
   "execution_count": null,
   "id": "a06344b2",
   "metadata": {},
   "outputs": [],
   "source": [
    "depths = [get_depth(ct,node) for node in collect(values(ct.nodes))]\n",
    "sort!(depths,rev=true)\n",
    "println(depths)"
   ]
  },
  {
   "cell_type": "code",
   "execution_count": null,
   "id": "3644f997",
   "metadata": {},
   "outputs": [],
   "source": [
    "node = rand(collect(values(ct.nodes)))\n",
    "println(get_depth(ct,node))"
   ]
  },
  {
   "cell_type": "markdown",
   "id": "39e7a008",
   "metadata": {},
   "source": [
    "### Test 3\n",
    "Test greedy alg."
   ]
  },
  {
   "cell_type": "code",
   "execution_count": 7,
   "id": "a6ea478e",
   "metadata": {},
   "outputs": [
    {
     "data": {
      "text/plain": [
       "optimal_order_2_greedy_init (generic function with 2 methods)"
      ]
     },
     "execution_count": 7,
     "metadata": {},
     "output_type": "execute_result"
    }
   ],
   "source": [
    "using Random\n",
    "using Plots\n",
    "#gr(show = :ijulia)\n",
    "include(\"tensor_network.jl\")\n",
    "include(\"contraction_tree.jl\")\n",
    "include(\"simulated_annealing.jl\")\n",
    "include(\"utils.jl\")\n",
    "include(\"greedy.jl\")"
   ]
  },
  {
   "cell_type": "code",
   "execution_count": 8,
   "id": "3e1ced0b",
   "metadata": {},
   "outputs": [
    {
     "name": "stdout",
     "output_type": "stream",
     "text": [
      "  3.843090 seconds (16.96 M allocations: 1.342 GiB, 6.84% gc time, 31.61% compilation time)\n",
      "[13.847379800543136, 18.85788335855545]\n"
     ]
    },
    {
     "data": {
      "text/plain": [
       "(Any[[265, 304], [265, 305], [170, 327], [266, 307], [266, 306], [261, 295], [261, 296], [232, 275], [232, 276], [260, 292]  …  [98, 110], [15, 97], [6, 9], [15, 96], [1, 98], [10, 15], [6, 10], [1, 5], [1, 6], [1, 45]], 46.0, 62.644532538894204)"
      ]
     },
     "execution_count": 8,
     "metadata": {},
     "output_type": "execute_result"
    }
   ],
   "source": [
    "tn = graph_read_from_edges(\"test/Sycamore_53_14.txt\")\n",
    "@time begin\n",
    "    min_sc_order, min_tc_order,orders = greedy_orders(tn,\"mindim\",\"mindimtri\",100)\n",
    "end\n",
    "ct = order_to_CTree(tn,min_tc_order[1])\n",
    "println(ct.complex.*log10(2))\n",
    "min_tc_order"
   ]
  },
  {
   "cell_type": "code",
   "execution_count": 9,
   "id": "db8a0a3c",
   "metadata": {
    "scrolled": true
   },
   "outputs": [
    {
     "data": {
      "text/plain": [
       "4-element Vector{Any}:\n",
       "   Graph{Int64, Float64}(327, [[1, 62], [1, 20], [1, 4], [2, 20], [2, 43], [2, 7], [3, 21], [3, 22], [3, 62], [3, 8]  …  [270, 315], [270, 316], [271, 317], [271, 318], [272, 320], [272, 321], [273, 322], [273, 323], [274, 325], [274, 326]], Dict{Any, Any}(56 => Set([79, 36, 37, 80]), 35 => Set([13, 16, 54, 55]), 60 => Set([83, 16, 103, 40]), 220 => Set([200, 243, 201, 244]), 308 => Set([267]), 67 => Set([45, 133, 88, 24]), 215 => Set([195, 194, 237, 238]), 73 => Set([93, 49, 50, 92]), 319 => Set([252]), 251 => Set([227, 228, 270, 271])…), [1.0, 1.0, 1.0, 1.0, 1.0, 1.0, 1.0, 1.0, 1.0, 1.0  …  1.0, 1.0, 1.0, 1.0, 1.0, 1.0, 1.0, 1.0, 1.0, 1.0], Dict(73 => 4.0, 319 => 1.0, 251 => 4.0, 115 => 4.0, 112 => 4.0, 185 => 4.0, 86 => 4.0, 207 => 4.0, 263 => 4.0, 242 => 4.0…))\n",
       " 49\n",
       "  5\n",
       " 10"
      ]
     },
     "execution_count": 9,
     "metadata": {},
     "output_type": "execute_result"
    }
   ],
   "source": [
    "betas = [0.8^(-n) for n=1:10]\n",
    "L = 49\n",
    "c = 5\n",
    "n_orders = 10\n",
    "optimal_type = \"greedy\"\n",
    "optimal_arg = [tn,L,c,n_orders]"
   ]
  },
  {
   "cell_type": "code",
   "execution_count": 10,
   "id": "a417a0ac",
   "metadata": {
    "scrolled": false
   },
   "outputs": [
    {
     "data": {
      "text/plain": [
       "(55.082317547689364, Any[[71, 91], [110, 152], [117, 136], [117, 160], [110, 117], [240, 293], [260, 292], [260, 291], [240, 260], [217, 240]  …  [10, 120], [10, 53], [10, 101], [10, 16], [10, 162], [10, 181], [1, 10], [111, 138], [111, 153], [1, 111]])"
      ]
     },
     "execution_count": 10,
     "metadata": {},
     "output_type": "execute_result"
    }
   ],
   "source": [
    "#@time begin\n",
    "#    fn_min,min_fn_order = simulated_annealing!(ct,betas,optimal_type;optimal_arg)\n",
    "#end\n",
    "#ct.nodes[Set(Any[65, 43, 86, 85, 106])]\n",
    "fn_min,min_fn_order = simulated_annealing!(ct,betas,optimal_type;optimal_arg)"
   ]
  },
  {
   "cell_type": "code",
   "execution_count": 11,
   "id": "57e1d32b",
   "metadata": {
    "scrolled": true
   },
   "outputs": [
    {
     "name": "stdout",
     "output_type": "stream",
     "text": [
      "  0.008913 seconds (25.32 k allocations: 456.781 KiB)\n",
      "[14.148409796207117, 16.581429812542968]\n"
     ]
    },
    {
     "data": {
      "text/plain": [
       "16.581429812542964"
      ]
     },
     "execution_count": 11,
     "metadata": {},
     "output_type": "execute_result"
    }
   ],
   "source": [
    "@time begin\n",
    "    update_complex!(ct,ct.nodes[ct.root])\n",
    "end\n",
    "println(ct.nodes[ct.root].complex.*log10(2))\n",
    "log2sumexp([node.tc for node in collect(values(ct.nodes))])*log10(2)"
   ]
  },
  {
   "cell_type": "code",
   "execution_count": 12,
   "id": "2cb40f98",
   "metadata": {},
   "outputs": [
    {
     "name": "stdout",
     "output_type": "stream",
     "text": [
      "[14.148409796207117, 16.581429812542968]\n",
      "[14.148409796207117, 16.581429812542968]\n"
     ]
    },
    {
     "data": {
      "text/plain": [
       "326-element Vector{Any}:\n",
       " [1, 20]\n",
       " [42, 63]\n",
       " [1, 42]\n",
       " [21, 64]\n",
       " [1, 21]\n",
       " [3, 22]\n",
       " [3, 62]\n",
       " [1, 3]\n",
       " [23, 44]\n",
       " [66, 87]\n",
       " [23, 66]\n",
       " [43, 65]\n",
       " [86, 106]\n",
       " ⋮\n",
       " [10, 124]\n",
       " [10, 33]\n",
       " [10, 157]\n",
       " [10, 53]\n",
       " [10, 114]\n",
       " [162, 181]\n",
       " [10, 162]\n",
       " [10, 120]\n",
       " [1, 10]\n",
       " [1, 153]\n",
       " [1, 138]\n",
       " [1, 111]"
      ]
     },
     "execution_count": 12,
     "metadata": {},
     "output_type": "execute_result"
    }
   ],
   "source": [
    "# order test\n",
    "println(ct.complex.*log10(2))\n",
    "order1 = CTree_to_order(ct,ct.root)\n",
    "ct1 = order_to_CTree(tn,order1)\n",
    "println(ct1.complex.*log10(2))\n",
    "order2 = CTree_to_order(ct1,ct1.root)"
   ]
  },
  {
   "cell_type": "code",
   "execution_count": 27,
   "id": "018d2d68",
   "metadata": {},
   "outputs": [
    {
     "name": "stdout",
     "output_type": "stream",
     "text": [
      "[13.546349804879155, 15.52769618205912]\n",
      "15.52769618205912\n"
     ]
    }
   ],
   "source": [
    "# min_order_test\n",
    "min_fn_ct = order_to_CTree(tn,min_fn_order)\n",
    "println(min_fn_ct.complex.*log10(2))\n",
    "println(fn_min*log10(2))"
   ]
  },
  {
   "cell_type": "code",
   "execution_count": null,
   "id": "ee44a9b5",
   "metadata": {
    "scrolled": true
   },
   "outputs": [],
   "source": [
    "ct_new = order_to_CTree(tn,min_fn_order)\n",
    "update_complex!(ct_new,ct_new.nodes[ct.root])\n",
    "println(ct_new.complex.*log10(2))"
   ]
  },
  {
   "cell_type": "code",
   "execution_count": null,
   "id": "a491bb2d",
   "metadata": {},
   "outputs": [],
   "source": [
    "LRD_list = []\n",
    "LRD_traversal!(ct,ct.nodes[ct.root],LRD_list)\n",
    "top_nodes = filter(x->get_depth(ct,ct.nodes[x])≤5,LRD_list)\n",
    "sub_nodes_r = [get_right(ct,ct.nodes[id]).id for id in top_nodes if ~is_leaf(ct.nodes[id])]\n",
    "sub_nodes_l = [get_left(ct,ct.nodes[id]).id for id in top_nodes if ~is_leaf(ct.nodes[id])]\n",
    "sub_nodes = setdiff([sub_nodes_l;sub_nodes_r]|>unique,top_nodes)\n",
    "filter!(x->length(x)≥3,sub_nodes)\n",
    "sort!(sub_nodes,by=length)\n",
    "greedy_update!(ct,tn,sub_nodes,5)"
   ]
  },
  {
   "cell_type": "code",
   "execution_count": 51,
   "id": "a8002918",
   "metadata": {},
   "outputs": [
    {
     "name": "stdout",
     "output_type": "stream",
     "text": [
      "[16.857679757182947, 23.703543839504917]\n"
     ]
    },
    {
     "data": {
      "text/plain": [
       "(74.11114080692973, Any[[124, 167], [124, 143], [105, 147], [105, 130], [163, 182], [188, 210], [163, 188], [97, 120], [126, 145], [126, 169]  …  [171, 198], [229, 253], [171, 229], [171, 176], [171, 221], [171, 220], [171, 207], [171, 209], [1, 171], [1, 186]])"
      ]
     },
     "execution_count": 51,
     "metadata": {},
     "output_type": "execute_result"
    }
   ],
   "source": [
    "    include(\"tensor_network.jl\")\n",
    "    include(\"contraction_tree.jl\")\n",
    "    include(\"greedy.jl\")\n",
    "    include(\"simulated_annealing.jl\")\n",
    "\n",
    "    # --------------Test Code--------------------\n",
    "    tn = graph_read_from_edges(\"test/Sycamore_53_20.txt\")\n",
    "    min_sc_order, min_tc_order,orders = greedy_orders(tn,\"mindim\",\"mindimtri\",100)\n",
    "    ct = order_to_CTree(tn,min_tc_order[1])\n",
    "    println(ct.complex.*log10(2))\n",
    "\n",
    "    betas = [0.8^(-n) for n=1:20]\n",
    "    L = 49\n",
    "    c = 5\n",
    "    n_orders = 10\n",
    "    optimal_type = \"greedy\"\n",
    "    optimal_arg = [tn,L,c,n_orders]\n",
    "\n",
    "    fn_min,min_fn_order = simulated_annealing!(ct,betas,optimal_type;optimal_arg)\n",
    "    "
   ]
  },
  {
   "cell_type": "code",
   "execution_count": 53,
   "id": "def58072",
   "metadata": {},
   "outputs": [
    {
     "data": {
      "text/plain": [
       "2-element Vector{Set{Any}}:\n",
       " Set([56, 35, 110, 60, 30, 6, 67, 73, 182, 164  …  51, 149, 181, 155, 143, 48, 15, 65, 97, 134])\n",
       " Set([402, 413, 425, 429, 220, 308, 419, 234, 215, 219  …  387, 198, 306, 274, 246, 446, 330, 293, 284, 298])"
      ]
     },
     "execution_count": 53,
     "metadata": {},
     "output_type": "execute_result"
    }
   ],
   "source": [
    "            LRD_list = []\n",
    "            LRD_traversal!(ct,ct.nodes[ct.root],LRD_list)\n",
    "            top_nodes = filter(x->get_depth(ct,ct.nodes[x])≤c,LRD_list)\n",
    "            sub_nodes_r = [get_right(ct,ct.nodes[id]).id for id in top_nodes if ~is_leaf(ct.nodes[id])]\n",
    "            sub_nodes_l = [get_left(ct,ct.nodes[id]).id for id in top_nodes if ~is_leaf(ct.nodes[id])]\n",
    "            sub_nodes = setdiff([sub_nodes_l;sub_nodes_r] |> unique,top_nodes)\n",
    "            filter!(x->length(x)≥3,sub_nodes)\n",
    "            sort!(sub_nodes,by=length)\n",
    "            delete_list = []\n",
    "            for k=eachindex(sub_nodes)\n",
    "                if get_father(ct,ct.nodes[sub_nodes[k]]).id in sub_nodes\n",
    "                    push(delete_list,k)\n",
    "                end\n",
    "            end\n",
    "deleteat!(sub_nodes,delete_list)"
   ]
  },
  {
   "cell_type": "code",
   "execution_count": 54,
   "id": "1cc94f2e",
   "metadata": {
    "scrolled": true
   },
   "outputs": [
    {
     "name": "stdout",
     "output_type": "stream",
     "text": [
      "[16.556649761518965, 22.28330770612871]\n",
      "[8.729869874255455, 12.18239690578361]\n"
     ]
    }
   ],
   "source": [
    "nodeid = sub_nodes[1]\n",
    "node = ct.nodes[nodeid]\n",
    "subgraph,nodes = get_subgraph(tn,nodeid)\n",
    "min_sc_order,min_tc_order,orders = greedy_orders(subgraph,\"mindim\",\"mindimtri\",100)\n",
    "subct = order_to_CTree(subgraph,min_tc_order[1])\n",
    "println(node.complex.*log10(2))\n",
    "println(subct.complex.*log10(2))"
   ]
  },
  {
   "cell_type": "code",
   "execution_count": 55,
   "id": "fe5d8a6a",
   "metadata": {
    "scrolled": true
   },
   "outputs": [
    {
     "name": "stdout",
     "output_type": "stream",
     "text": [
      "[8.729869874255455, 12.18239690578361]\n"
     ]
    }
   ],
   "source": [
    "a = CTree_to_order(subct,subct.root)\n",
    "aa = order_to_CTree(subgraph,a)\n",
    "println(aa.complex.*log10(2))"
   ]
  },
  {
   "cell_type": "code",
   "execution_count": 56,
   "id": "0ed68cb1",
   "metadata": {},
   "outputs": [
    {
     "data": {
      "text/plain": [
       "2-element Vector{Float64}:\n",
       " 58.0\n",
       " 70.02578912012312"
      ]
     },
     "execution_count": 56,
     "metadata": {},
     "output_type": "execute_result"
    }
   ],
   "source": [
    "ΔH = target_fn(subct.complex[1],subct.complex[2])-target_fn(node.complex[1],node.complex[2])\n",
    "if rand()≤minimum([1,exp(-ΔH)])\n",
    "    replace_branch!(ct,node,subct)\n",
    "end"
   ]
  },
  {
   "cell_type": "code",
   "execution_count": 59,
   "id": "594505a7",
   "metadata": {
    "scrolled": true
   },
   "outputs": [
    {
     "name": "stdout",
     "output_type": "stream",
     "text": [
      "[17.45973974851091, 21.079862995197526]\n",
      "[21.373129692142665, 27.092701274736367]\n"
     ]
    }
   ],
   "source": [
    "println(ct.complex.*log10(2))\n",
    "order1 = CTree_to_order(ct,ct.root)\n",
    "tn = graph_read_from_edges(\"test/Sycamore_53_20.txt\")\n",
    "ct1 = order_to_CTree(tn,order1)\n",
    "println(ct1.complex.*log10(2))"
   ]
  },
  {
   "cell_type": "code",
   "execution_count": 64,
   "id": "2647e204",
   "metadata": {
    "scrolled": true
   },
   "outputs": [
    {
     "data": {
      "text/plain": [
       "2-element Vector{Float64}:\n",
       " 21.373129692142665\n",
       " 27.09270085309205"
      ]
     },
     "execution_count": 64,
     "metadata": {},
     "output_type": "execute_result"
    }
   ],
   "source": [
    "ct1.nodes[nodeid].complex.*log10(2)"
   ]
  },
  {
   "cell_type": "code",
   "execution_count": 68,
   "id": "edfb46b4",
   "metadata": {},
   "outputs": [
    {
     "name": "stdout",
     "output_type": "stream",
     "text": [
      "[8.729869874255455, 12.18239690578361]\n"
     ]
    }
   ],
   "source": [
    "sub_order = CTree_to_order(ct,nodeid)\n",
    "#println(sub_order)\n",
    "subct_ = order_to_CTree(subgraph,sub_order)\n",
    "println(subct_.complex.*log10(2))"
   ]
  }
 ],
 "metadata": {
  "kernelspec": {
   "display_name": "Julia 1.7.1",
   "language": "julia",
   "name": "julia-1.7"
  },
  "language_info": {
   "file_extension": ".jl",
   "mimetype": "application/julia",
   "name": "julia",
   "version": "1.7.1"
  }
 },
 "nbformat": 4,
 "nbformat_minor": 5
}
