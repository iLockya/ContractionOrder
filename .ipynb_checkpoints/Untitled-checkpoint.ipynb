{
 "cells": [
  {
   "cell_type": "code",
   "execution_count": null,
   "id": "3ddc05dc",
   "metadata": {},
   "outputs": [],
   "source": [
    "using Random\n",
    "using Plots\n",
    "# gr(show = :ijulia)\n",
    "include(\"tensor_network.jl\")\n",
    "include(\"contraction_tree.jl\")\n",
    "include(\"simulated_annealing.jl\")\n",
    "include(\"utils.jl\")\n",
    "include(\"greedy.jl\")"
   ]
  },
  {
   "cell_type": "markdown",
   "id": "bc743103",
   "metadata": {},
   "source": [
    "### Test 1\n",
    "Test for naive simulated annealing."
   ]
  },
  {
   "cell_type": "code",
   "execution_count": null,
   "id": "993829b5",
   "metadata": {},
   "outputs": [],
   "source": [
    "tn = graph_read_from_edges(\"test/Sycamore_53_20.txt\")\n",
    "@time begin\n",
    "    order = greedy_local(tn)\n",
    "end\n",
    "ct = order_to_CTree(tn,order)\n",
    "println(ct.complex.*log10(2))"
   ]
  },
  {
   "cell_type": "markdown",
   "id": "8561d0be",
   "metadata": {},
   "source": [
    "setting: $\\beta=2000.0$,$L=500000$ \n",
    "\n",
    "result: \n",
    "- time = 354.529311 seconds\n",
    "- complex = [16.557, 18.7645]"
   ]
  },
  {
   "cell_type": "code",
   "execution_count": null,
   "id": "7fb1bae7",
   "metadata": {
    "scrolled": true
   },
   "outputs": [],
   "source": [
    "optimal_arg = [50000]\n",
    "@time begin\n",
    "    simulated_annealing!(ct,200.0,\"normal\";optimal_arg)\n",
    "end"
   ]
  },
  {
   "cell_type": "code",
   "execution_count": null,
   "id": "ef954f7c",
   "metadata": {},
   "outputs": [],
   "source": [
    "println(ct.complex.*log10(2))"
   ]
  },
  {
   "cell_type": "markdown",
   "id": "923a72f1",
   "metadata": {},
   "source": [
    "settings: $\\beta = 0.99^{-n}$, $L=2000$, $n=1,2\\dots 1000$\n",
    "\n",
    "results:\n",
    "- time = 1464.738110 seconds\n",
    "- complex = [15.955, 18.455]"
   ]
  },
  {
   "cell_type": "code",
   "execution_count": null,
   "id": "f37bbcbc",
   "metadata": {
    "scrolled": true
   },
   "outputs": [],
   "source": [
    "betas = [0.99^(-n) for n=1:1000]\n",
    "L = 2000\n",
    "@time begin\n",
    "    simulated_annealing!(ct,betas,L)\n",
    "end"
   ]
  },
  {
   "cell_type": "code",
   "execution_count": null,
   "id": "802f7d24",
   "metadata": {
    "scrolled": false
   },
   "outputs": [],
   "source": [
    "@time begin\n",
    "    CTree_to_order(ct,ct.root)\n",
    "    update_complex!(ct)\n",
    "end\n",
    "println(ct.complex.*log10(2))"
   ]
  },
  {
   "cell_type": "markdown",
   "id": "994a4ec6",
   "metadata": {},
   "source": [
    "### Test 2\n",
    "Test for traversal order."
   ]
  },
  {
   "cell_type": "code",
   "execution_count": null,
   "id": "3f0cfe27",
   "metadata": {},
   "outputs": [],
   "source": [
    "tn = graph_read_from_edges(\"test/Sycamore_53_12.txt\")\n",
    "order = greedy_local(tn)\n",
    "ct = order_to_CTree(tn,order)\n",
    "betas = [0.95^(-n) for n=1:200]\n",
    "L = 10\n",
    "println(ct.complex.*log10(2))"
   ]
  },
  {
   "cell_type": "code",
   "execution_count": null,
   "id": "6449ebbf",
   "metadata": {
    "scrolled": true
   },
   "outputs": [],
   "source": [
    "@time begin\n",
    "    simulated_annealing!(ct,betas,L)\n",
    "end\n",
    "update_complex!(ct,ct.nodes[ct.root])\n",
    "println(ct.complex.*log10(2))"
   ]
  },
  {
   "cell_type": "code",
   "execution_count": null,
   "id": "bd9a5974",
   "metadata": {},
   "outputs": [],
   "source": [
    "2^ct.complex[2]"
   ]
  },
  {
   "cell_type": "code",
   "execution_count": null,
   "id": "4cfdc5fd",
   "metadata": {},
   "outputs": [],
   "source": [
    "dims = [get_node_dim(ct,node) for node in collect(values(ct.nodes))]\n",
    "sizes = [length(node.id) for node in collect(values(ct.nodes))]\n",
    "sort!(sizes)\n",
    "sort!(dims)\n",
    "println(dims)\n",
    "println(sizes)\n",
    "#[node for node in collect(values(ct.nodes))]"
   ]
  },
  {
   "cell_type": "code",
   "execution_count": null,
   "id": "600871d1",
   "metadata": {},
   "outputs": [],
   "source": [
    "function get_depth(ct::Contraction_Tree,node::CTree_Node)\n",
    "    node.id == ct.root && return 1\n",
    "    return get_depth(ct,get_father(ct,node))+1\n",
    "end"
   ]
  },
  {
   "cell_type": "code",
   "execution_count": null,
   "id": "a06344b2",
   "metadata": {},
   "outputs": [],
   "source": [
    "depths = [get_depth(ct,node) for node in collect(values(ct.nodes))]\n",
    "sort!(depths,rev=true)\n",
    "println(depths)"
   ]
  },
  {
   "cell_type": "code",
   "execution_count": null,
   "id": "3644f997",
   "metadata": {},
   "outputs": [],
   "source": [
    "node = rand(collect(values(ct.nodes)))\n",
    "println(get_depth(ct,node))"
   ]
  },
  {
   "cell_type": "markdown",
   "id": "39e7a008",
   "metadata": {},
   "source": [
    "### Test 3\n",
    "Test greedy alg."
   ]
  },
  {
   "cell_type": "code",
   "execution_count": 1,
   "id": "a6ea478e",
   "metadata": {},
   "outputs": [
    {
     "data": {
      "text/plain": [
       "optimal_order_2_greedy_init (generic function with 2 methods)"
      ]
     },
     "execution_count": 1,
     "metadata": {},
     "output_type": "execute_result"
    }
   ],
   "source": [
    "using Random\n",
    "using Plots\n",
    "#gr(show = :ijulia)\n",
    "include(\"tensor_network.jl\")\n",
    "include(\"contraction_tree.jl\")\n",
    "include(\"simulated_annealing.jl\")\n",
    "include(\"utils.jl\")\n",
    "include(\"greedy.jl\")"
   ]
  },
  {
   "cell_type": "code",
   "execution_count": 2,
   "id": "3e1ced0b",
   "metadata": {},
   "outputs": [
    {
     "name": "stdout",
     "output_type": "stream",
     "text": [
      "  8.321953 seconds (25.42 M allocations: 1.888 GiB, 5.54% gc time, 67.47% compilation time)\n",
      "[13.546349804879155, 18.115959812905697]\n"
     ]
    },
    {
     "data": {
      "text/plain": [
       "(Any[[270, 315], [270, 316], [237, 286], [249, 312], [232, 275], [232, 276], [266, 307], [266, 306], [252, 319], [265, 305]  …  [1, 92], [9, 107], [6, 14], [99, 176], [1, 2], [99, 123], [6, 99], [6, 12], [1, 6], [1, 9]], 45.0, 60.17991586834183)"
      ]
     },
     "execution_count": 2,
     "metadata": {},
     "output_type": "execute_result"
    }
   ],
   "source": [
    "tn = graph_read_from_edges(\"test/Sycamore_53_14.txt\")\n",
    "@time begin\n",
    "    min_sc_order, min_tc_order,orders = greedy_orders(tn,\"mindim\",\"mindimtri\",100)\n",
    "end\n",
    "ct = order_to_CTree(tn,min_tc_order[1])\n",
    "println(ct.complex.*log10(2))\n",
    "min_tc_order"
   ]
  },
  {
   "cell_type": "code",
   "execution_count": 3,
   "id": "db8a0a3c",
   "metadata": {
    "scrolled": true
   },
   "outputs": [
    {
     "data": {
      "text/plain": [
       "4-element Vector{Any}:\n",
       "   Graph{Int64, Float64}(327, [[1, 62], [1, 20], [1, 4], [2, 20], [2, 43], [2, 7], [3, 21], [3, 22], [3, 62], [3, 8]  …  [270, 315], [270, 316], [271, 317], [271, 318], [272, 320], [272, 321], [273, 322], [273, 323], [274, 325], [274, 326]], Dict{Any, Any}(56 => Set([79, 36, 37, 80]), 35 => Set([13, 16, 54, 55]), 60 => Set([83, 16, 103, 40]), 220 => Set([200, 243, 201, 244]), 308 => Set([267]), 67 => Set([45, 133, 88, 24]), 215 => Set([195, 194, 237, 238]), 73 => Set([93, 49, 50, 92]), 319 => Set([252]), 251 => Set([227, 228, 270, 271])…), [1.0, 1.0, 1.0, 1.0, 1.0, 1.0, 1.0, 1.0, 1.0, 1.0  …  1.0, 1.0, 1.0, 1.0, 1.0, 1.0, 1.0, 1.0, 1.0, 1.0], Dict(73 => 4.0, 319 => 1.0, 251 => 4.0, 115 => 4.0, 112 => 4.0, 185 => 4.0, 86 => 4.0, 207 => 4.0, 263 => 4.0, 242 => 4.0…))\n",
       " 50\n",
       "  5\n",
       " 10"
      ]
     },
     "execution_count": 3,
     "metadata": {},
     "output_type": "execute_result"
    }
   ],
   "source": [
    "betas = [0.8^(-n) for n=1:10]\n",
    "L = 49\n",
    "c = 5\n",
    "n_orders = 10\n",
    "optimal_type = \"greedy\"\n",
    "optimal_arg = [tn,L,c,n_orders]"
   ]
  },
  {
   "cell_type": "code",
   "execution_count": 4,
   "id": "a417a0ac",
   "metadata": {
    "scrolled": false
   },
   "outputs": [
    {
     "name": "stdout",
     "output_type": "stream",
     "text": [
      "5\n",
      "2.1818435879447726 2.1818435879447726\n",
      "2.2648178230095364 2.2648178230095364\n",
      "3.2533380053261065 3.2533380053261056\n",
      "4.855591834854967 4.855591834854967\n",
      "10.304189753475885 10.304189753475885\n",
      "2\n",
      "4.905515251669845 4.905515251669845\n",
      "13.864066913608692 13.864066913608692\n",
      "2\n",
      "1.7481880270062002 1.7481880270062002\n",
      "18.127825338966954 18.127825338966954\n",
      "1\n",
      "18.7662027471785 18.7662027471785\n",
      "1\n",
      "19.675246622416516 19.675246622416513\n",
      "3\n",
      "1.380211241711606 1.380211241711606\n",
      "1.9030899869919438 1.9030899869919438\n",
      "18.320085730251936 18.32008573025194\n",
      "1\n",
      "19.58766836239929 19.58766836239929\n",
      "1\n",
      "18.9072623440968 18.907262344096804\n",
      "1\n",
      "19.364184976608332 19.364184976608332\n",
      "1\n",
      "18.305091976003794 18.305091976003794\n"
     ]
    },
    {
     "data": {
      "text/plain": [
       "(46.05915696188083, Any[[6, 24], [6, 14], [6, 39], [11, 33], [6, 11], [10, 32], [10, 28], [52, 75], [10, 52], [6, 10]  …  [236, 285], [257, 283], [257, 284], [236, 257], [281, 282], [256, 281], [235, 256], [235, 236], [213, 235], [1, 213]])"
      ]
     },
     "execution_count": 4,
     "metadata": {},
     "output_type": "execute_result"
    }
   ],
   "source": [
    "#@time begin\n",
    "#    fn_min,min_fn_order = simulated_annealing!(ct,betas,optimal_type;optimal_arg)\n",
    "#end\n",
    "#ct.nodes[Set(Any[65, 43, 86, 85, 106])]\n",
    "fn_min,min_fn_order = simulated_annealing!(ct,betas,optimal_type;optimal_arg)"
   ]
  },
  {
   "cell_type": "code",
   "execution_count": 5,
   "id": "57e1d32b",
   "metadata": {
    "scrolled": true
   },
   "outputs": [
    {
     "name": "stdout",
     "output_type": "stream",
     "text": [
      "  0.014408 seconds (20.76 k allocations: 386.875 KiB, 89.73% compilation time)\n",
      "[10.536049848239342, 13.865289577795034]\n"
     ]
    },
    {
     "data": {
      "text/plain": [
       "13.865289577795037"
      ]
     },
     "execution_count": 5,
     "metadata": {},
     "output_type": "execute_result"
    }
   ],
   "source": [
    "@time begin\n",
    "    update_complex!(ct,ct.nodes[ct.root])\n",
    "end\n",
    "println(ct.nodes[ct.root].complex.*log10(2))\n",
    "log2sumexp([node.tc for node in collect(values(ct.nodes))])*log10(2)"
   ]
  },
  {
   "cell_type": "code",
   "execution_count": 6,
   "id": "2cb40f98",
   "metadata": {},
   "outputs": [
    {
     "name": "stdout",
     "output_type": "stream",
     "text": [
      "[10.536049848239342, 13.865289577795034]\n",
      "[13.546349804879155, 19.003811238016972]\n"
     ]
    },
    {
     "data": {
      "text/plain": [
       "false"
      ]
     },
     "execution_count": 6,
     "metadata": {},
     "output_type": "execute_result"
    }
   ],
   "source": [
    "# order test\n",
    "println(ct.complex.*log10(2))\n",
    "order1 = CTree_to_order(ct,ct.root)\n",
    "ct1 = order_to_CTree(tn,order1)\n",
    "println(ct1.complex.*log10(2))\n",
    "order2 = CTree_to_order(ct1,ct1.root)\n",
    "order1==min_fn_order"
   ]
  },
  {
   "cell_type": "code",
   "execution_count": 27,
   "id": "018d2d68",
   "metadata": {},
   "outputs": [
    {
     "name": "stdout",
     "output_type": "stream",
     "text": [
      "[13.546349804879155, 15.52769618205912]\n",
      "15.52769618205912\n"
     ]
    }
   ],
   "source": [
    "# min_order_test\n",
    "min_fn_ct = order_to_CTree(tn,min_fn_order)\n",
    "println(min_fn_ct.complex.*log10(2))\n",
    "println(fn_min*log10(2))"
   ]
  },
  {
   "cell_type": "code",
   "execution_count": null,
   "id": "ee44a9b5",
   "metadata": {
    "scrolled": true
   },
   "outputs": [],
   "source": [
    "ct_new = order_to_CTree(tn,min_fn_order)\n",
    "update_complex!(ct_new,ct_new.nodes[ct.root])\n",
    "println(ct_new.complex.*log10(2))"
   ]
  },
  {
   "cell_type": "code",
   "execution_count": null,
   "id": "a491bb2d",
   "metadata": {},
   "outputs": [],
   "source": [
    "LRD_list = []\n",
    "LRD_traversal!(ct,ct.nodes[ct.root],LRD_list)\n",
    "top_nodes = filter(x->get_depth(ct,ct.nodes[x])≤5,LRD_list)\n",
    "sub_nodes_r = [get_right(ct,ct.nodes[id]).id for id in top_nodes if ~is_leaf(ct.nodes[id])]\n",
    "sub_nodes_l = [get_left(ct,ct.nodes[id]).id for id in top_nodes if ~is_leaf(ct.nodes[id])]\n",
    "sub_nodes = setdiff([sub_nodes_l;sub_nodes_r]|>unique,top_nodes)\n",
    "filter!(x->length(x)≥3,sub_nodes)\n",
    "sort!(sub_nodes,by=length)\n",
    "greedy_update!(ct,tn,sub_nodes,5)"
   ]
  },
  {
   "cell_type": "code",
   "execution_count": 52,
   "id": "a8002918",
   "metadata": {},
   "outputs": [
    {
     "name": "stdout",
     "output_type": "stream",
     "text": [
      "[12.944289813551192, 18.14773968978777]\n"
     ]
    },
    {
     "data": {
      "text/plain": [
       "(53.41196007794417, Any[[199, 219], [241, 294], [198, 241], [262, 297], [262, 298], [261, 296], [261, 295], [242, 261], [242, 262], [198, 242]  …  [264, 302], [221, 264], [221, 244], [220, 221], [1, 220], [1, 177], [1, 200], [1, 6], [1, 243], [1, 198]])"
      ]
     },
     "execution_count": 52,
     "metadata": {},
     "output_type": "execute_result"
    }
   ],
   "source": [
    "    include(\"tensor_network.jl\")\n",
    "    include(\"contraction_tree.jl\")\n",
    "    include(\"greedy.jl\")\n",
    "    include(\"simulated_annealing.jl\")\n",
    "\n",
    "    # --------------Test Code--------------------\n",
    "    tn = graph_read_from_edges(\"test/Sycamore_53_14.txt\")\n",
    "    min_sc_order, min_tc_order,orders = greedy_orders(tn,\"mindim\",\"mindimtri\",100)\n",
    "    ct = order_to_CTree(tn,min_tc_order[1])\n",
    "    println(ct.complex.*log10(2))\n",
    "\n",
    "    betas = [0.8^(-n) for n=1:20]\n",
    "    L = 49\n",
    "    c = 5\n",
    "    n_orders = 10\n",
    "    optimal_type = \"greedy\"\n",
    "    optimal_arg = [tn,L,c,n_orders]\n",
    "\n",
    "    fn_min,min_fn_order = simulated_annealing!(ct,betas,optimal_type;optimal_arg)\n",
    "    "
   ]
  },
  {
   "cell_type": "code",
   "execution_count": 53,
   "id": "def58072",
   "metadata": {},
   "outputs": [
    {
     "data": {
      "text/plain": [
       "2-element Vector{Set{Any}}:\n",
       " Set([297, 242, 298, 262])\n",
       " Set([56, 35, 110, 60, 220, 30, 308, 234, 6, 67  …  246, 181, 143, 48, 65, 15, 97, 293, 284, 134])"
      ]
     },
     "execution_count": 53,
     "metadata": {},
     "output_type": "execute_result"
    }
   ],
   "source": [
    "            LRD_list = []\n",
    "            LRD_traversal!(ct,ct.nodes[ct.root],LRD_list)\n",
    "            top_nodes = filter(x->get_depth(ct,ct.nodes[x])≤c,LRD_list)\n",
    "            sub_nodes_r = [get_right(ct,ct.nodes[id]).id for id in top_nodes if ~is_leaf(ct.nodes[id])]\n",
    "            sub_nodes_l = [get_left(ct,ct.nodes[id]).id for id in top_nodes if ~is_leaf(ct.nodes[id])]\n",
    "            sub_nodes = setdiff([sub_nodes_l;sub_nodes_r] |> unique,top_nodes)\n",
    "            filter!(x->length(x)≥3,sub_nodes)\n",
    "            sort!(sub_nodes,by=length)\n",
    "            delete_list = []\n",
    "            for k=eachindex(sub_nodes)\n",
    "                if get_father(ct,ct.nodes[sub_nodes[k]]).id in sub_nodes\n",
    "                    push(delete_list,k)\n",
    "                end\n",
    "            end\n",
    "deleteat!(sub_nodes,delete_list)\n",
    "sub_nodes"
   ]
  }
 ],
 "metadata": {
  "kernelspec": {
   "display_name": "Julia 1.7.1",
   "language": "julia",
   "name": "julia-1.7"
  },
  "language_info": {
   "file_extension": ".jl",
   "mimetype": "application/julia",
   "name": "julia",
   "version": "1.7.1"
  }
 },
 "nbformat": 4,
 "nbformat_minor": 5
}
