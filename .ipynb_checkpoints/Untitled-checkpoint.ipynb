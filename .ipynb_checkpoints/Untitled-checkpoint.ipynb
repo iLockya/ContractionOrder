{
 "cells": [
  {
   "cell_type": "markdown",
   "id": "bc743103",
   "metadata": {},
   "source": [
    "### Test 1\n",
    "Test for naive simulated annealing."
   ]
  },
  {
   "cell_type": "code",
   "execution_count": null,
   "id": "3ddc05dc",
   "metadata": {},
   "outputs": [],
   "source": [
    "using Random\n",
    "using Plots\n",
    "# gr(show = :ijulia)\n",
    "include(\"tensor_network.jl\")\n",
    "include(\"contraction_tree.jl\")\n",
    "include(\"simulated_annealing.jl\")\n",
    "include(\"utils.jl\")\n",
    "include(\"greedy.jl\")"
   ]
  },
  {
   "cell_type": "code",
   "execution_count": null,
   "id": "993829b5",
   "metadata": {},
   "outputs": [],
   "source": [
    "tn = graph_read_from_edges(\"test/Sycamore_53_20.txt\")\n",
    "@time begin\n",
    "    order = greedy_local(tn)\n",
    "end\n",
    "ct = order_to_CTree(tn,order)\n",
    "println(ct.complex.*log10(2))"
   ]
  },
  {
   "cell_type": "markdown",
   "id": "8561d0be",
   "metadata": {},
   "source": [
    "setting: $\\beta=2000.0$,$L=500000$ \n",
    "\n",
    "result: \n",
    "- time = 354.529311 seconds\n",
    "- complex = [16.557, 18.7645]"
   ]
  },
  {
   "cell_type": "code",
   "execution_count": null,
   "id": "7fb1bae7",
   "metadata": {
    "scrolled": true
   },
   "outputs": [],
   "source": [
    "optimal_arg = [50000]\n",
    "@time begin\n",
    "    simulated_annealing!(ct,200.0,\"normal\";optimal_arg)\n",
    "end"
   ]
  },
  {
   "cell_type": "code",
   "execution_count": null,
   "id": "ef954f7c",
   "metadata": {},
   "outputs": [],
   "source": [
    "println(ct.complex.*log10(2))"
   ]
  },
  {
   "cell_type": "markdown",
   "id": "923a72f1",
   "metadata": {},
   "source": [
    "settings: $\\beta = 0.99^{-n}$, $L=2000$, $n=1,2\\dots 1000$\n",
    "\n",
    "results:\n",
    "- time = 1464.738110 seconds\n",
    "- complex = [15.955, 18.455]"
   ]
  },
  {
   "cell_type": "code",
   "execution_count": null,
   "id": "f37bbcbc",
   "metadata": {
    "scrolled": true
   },
   "outputs": [],
   "source": [
    "betas = [0.99^(-n) for n=1:1000]\n",
    "L = 2000\n",
    "@time begin\n",
    "    simulated_annealing!(ct,betas,L)\n",
    "end"
   ]
  },
  {
   "cell_type": "code",
   "execution_count": null,
   "id": "802f7d24",
   "metadata": {
    "scrolled": false
   },
   "outputs": [],
   "source": [
    "@time begin\n",
    "    CTree_to_order(ct,ct.root)\n",
    "    update_complex!(ct)\n",
    "end\n",
    "println(ct.complex.*log10(2))"
   ]
  },
  {
   "cell_type": "markdown",
   "id": "39e7a008",
   "metadata": {},
   "source": [
    "### Test 2\n",
    "Test greedy alg."
   ]
  },
  {
   "cell_type": "code",
   "execution_count": 10,
   "id": "a6ea478e",
   "metadata": {},
   "outputs": [
    {
     "data": {
      "text/plain": [
       "optimal_order_2_greedy_init (generic function with 2 methods)"
      ]
     },
     "execution_count": 10,
     "metadata": {},
     "output_type": "execute_result"
    }
   ],
   "source": [
    "using Random\n",
    "using Plots\n",
    "gr(show = :ijulia)\n",
    "include(\"tensor_network.jl\")\n",
    "include(\"contraction_tree.jl\")\n",
    "include(\"simulated_annealing.jl\")\n",
    "include(\"utils.jl\")\n",
    "include(\"greedy.jl\")"
   ]
  },
  {
   "cell_type": "code",
   "execution_count": 23,
   "id": "3e1ced0b",
   "metadata": {},
   "outputs": [
    {
     "name": "stdout",
     "output_type": "stream",
     "text": [
      "  9.610855 seconds (23.16 M allocations: 19.109 GiB, 11.47% gc time)\n",
      "45.018.280993998297518\n",
      "327\t572\n"
     ]
    },
    {
     "data": {
      "text/plain": [
       "0"
      ]
     },
     "execution_count": 23,
     "metadata": {},
     "output_type": "execute_result"
    }
   ],
   "source": [
    "tn = graph_read_from_edges(\"test/Sycamore_53_14.txt\")\n",
    "@time begin\n",
    "    min_sc_order, min_tc_order,orders = greedy_orders(tn,\"mindim\",\"mindimtri\",100)\n",
    "end\n",
    "ct = order_to_CTree(tn,min_tc_order[1])\n",
    "println(ct.complex[1],ct.complex[2]*log10(2))\n",
    "println(tn.n,\"\\t\",length(tn.edges))\n",
    "\n",
    "βs = [log(1+2n) for n=1:200]\n",
    "L = 20\n",
    "c = 20\n",
    "n_orders = 10\n",
    "optimal_type = \"greedy\"\n",
    "optimal_arg = [L,c,n_orders]\n",
    "sc_target = 100 # sc_target = 31 for V100\n",
    "nslice = 0"
   ]
  },
  {
   "cell_type": "code",
   "execution_count": 24,
   "id": "a417a0ac",
   "metadata": {
    "scrolled": false
   },
   "outputs": [
    {
     "data": {
      "image/svg+xml": [
       "<?xml version=\"1.0\" encoding=\"utf-8\"?>\n",
       "<svg xmlns=\"http://www.w3.org/2000/svg\" xmlns:xlink=\"http://www.w3.org/1999/xlink\" width=\"600\" height=\"400\" viewBox=\"0 0 2400 1600\">\n",
       "<defs>\n",
       "  <clipPath id=\"clip170\">\n",
       "    <rect x=\"0\" y=\"0\" width=\"2400\" height=\"1600\"/>\n",
       "  </clipPath>\n",
       "</defs>\n",
       "<path clip-path=\"url(#clip170)\" d=\"\n",
       "M0 1600 L2400 1600 L2400 0 L0 0  Z\n",
       "  \" fill=\"#ffffff\" fill-rule=\"evenodd\" fill-opacity=\"1\"/>\n",
       "<defs>\n",
       "  <clipPath id=\"clip171\">\n",
       "    <rect x=\"480\" y=\"0\" width=\"1681\" height=\"1600\"/>\n",
       "  </clipPath>\n",
       "</defs>\n",
       "<path clip-path=\"url(#clip170)\" d=\"\n",
       "M214.515 1486.45 L2352.76 1486.45 L2352.76 47.2441 L214.515 47.2441  Z\n",
       "  \" fill=\"#ffffff\" fill-rule=\"evenodd\" fill-opacity=\"1\"/>\n",
       "<defs>\n",
       "  <clipPath id=\"clip172\">\n",
       "    <rect x=\"214\" y=\"47\" width=\"2139\" height=\"1440\"/>\n",
       "  </clipPath>\n",
       "</defs>\n",
       "<polyline clip-path=\"url(#clip172)\" style=\"stroke:#000000; stroke-linecap:butt; stroke-linejoin:round; stroke-width:2; stroke-opacity:0.1; fill:none\" points=\"\n",
       "  699.706,1486.45 699.706,47.2441 \n",
       "  \"/>\n",
       "<polyline clip-path=\"url(#clip172)\" style=\"stroke:#000000; stroke-linecap:butt; stroke-linejoin:round; stroke-width:2; stroke-opacity:0.1; fill:none\" points=\"\n",
       "  1230.55,1486.45 1230.55,47.2441 \n",
       "  \"/>\n",
       "<polyline clip-path=\"url(#clip172)\" style=\"stroke:#000000; stroke-linecap:butt; stroke-linejoin:round; stroke-width:2; stroke-opacity:0.1; fill:none\" points=\"\n",
       "  1761.4,1486.45 1761.4,47.2441 \n",
       "  \"/>\n",
       "<polyline clip-path=\"url(#clip172)\" style=\"stroke:#000000; stroke-linecap:butt; stroke-linejoin:round; stroke-width:2; stroke-opacity:0.1; fill:none\" points=\"\n",
       "  2292.24,1486.45 2292.24,47.2441 \n",
       "  \"/>\n",
       "<polyline clip-path=\"url(#clip170)\" style=\"stroke:#000000; stroke-linecap:butt; stroke-linejoin:round; stroke-width:4; stroke-opacity:1; fill:none\" points=\"\n",
       "  214.515,1486.45 2352.76,1486.45 \n",
       "  \"/>\n",
       "<polyline clip-path=\"url(#clip170)\" style=\"stroke:#000000; stroke-linecap:butt; stroke-linejoin:round; stroke-width:4; stroke-opacity:1; fill:none\" points=\"\n",
       "  699.706,1486.45 699.706,1467.55 \n",
       "  \"/>\n",
       "<polyline clip-path=\"url(#clip170)\" style=\"stroke:#000000; stroke-linecap:butt; stroke-linejoin:round; stroke-width:4; stroke-opacity:1; fill:none\" points=\"\n",
       "  1230.55,1486.45 1230.55,1467.55 \n",
       "  \"/>\n",
       "<polyline clip-path=\"url(#clip170)\" style=\"stroke:#000000; stroke-linecap:butt; stroke-linejoin:round; stroke-width:4; stroke-opacity:1; fill:none\" points=\"\n",
       "  1761.4,1486.45 1761.4,1467.55 \n",
       "  \"/>\n",
       "<polyline clip-path=\"url(#clip170)\" style=\"stroke:#000000; stroke-linecap:butt; stroke-linejoin:round; stroke-width:4; stroke-opacity:1; fill:none\" points=\"\n",
       "  2292.24,1486.45 2292.24,1467.55 \n",
       "  \"/>\n",
       "<path clip-path=\"url(#clip170)\" d=\"M689.984 1514.29 L708.341 1514.29 L708.341 1518.22 L694.267 1518.22 L694.267 1526.7 Q695.285 1526.35 696.304 1526.19 Q697.322 1526 698.341 1526 Q704.128 1526 707.507 1529.17 Q710.887 1532.34 710.887 1537.76 Q710.887 1543.34 707.415 1546.44 Q703.942 1549.52 697.623 1549.52 Q695.447 1549.52 693.179 1549.15 Q690.933 1548.78 688.526 1548.04 L688.526 1543.34 Q690.609 1544.47 692.831 1545.03 Q695.054 1545.58 697.53 1545.58 Q701.535 1545.58 703.873 1543.48 Q706.211 1541.37 706.211 1537.76 Q706.211 1534.15 703.873 1532.04 Q701.535 1529.94 697.53 1529.94 Q695.655 1529.94 693.78 1530.35 Q691.929 1530.77 689.984 1531.65 L689.984 1514.29 Z\" fill=\"#000000\" fill-rule=\"evenodd\" fill-opacity=\"1\" /><path clip-path=\"url(#clip170)\" d=\"M1205.24 1544.91 L1212.88 1544.91 L1212.88 1518.55 L1204.57 1520.21 L1204.57 1515.95 L1212.83 1514.29 L1217.51 1514.29 L1217.51 1544.91 L1225.15 1544.91 L1225.15 1548.85 L1205.24 1548.85 L1205.24 1544.91 Z\" fill=\"#000000\" fill-rule=\"evenodd\" fill-opacity=\"1\" /><path clip-path=\"url(#clip170)\" d=\"M1244.59 1517.37 Q1240.98 1517.37 1239.15 1520.93 Q1237.34 1524.47 1237.34 1531.6 Q1237.34 1538.71 1239.15 1542.27 Q1240.98 1545.82 1244.59 1545.82 Q1248.22 1545.82 1250.03 1542.27 Q1251.86 1538.71 1251.86 1531.6 Q1251.86 1524.47 1250.03 1520.93 Q1248.22 1517.37 1244.59 1517.37 M1244.59 1513.66 Q1250.4 1513.66 1253.46 1518.27 Q1256.53 1522.85 1256.53 1531.6 Q1256.53 1540.33 1253.46 1544.94 Q1250.4 1549.52 1244.59 1549.52 Q1238.78 1549.52 1235.7 1544.94 Q1232.65 1540.33 1232.65 1531.6 Q1232.65 1522.85 1235.7 1518.27 Q1238.78 1513.66 1244.59 1513.66 Z\" fill=\"#000000\" fill-rule=\"evenodd\" fill-opacity=\"1\" /><path clip-path=\"url(#clip170)\" d=\"M1736.58 1544.91 L1744.22 1544.91 L1744.22 1518.55 L1735.91 1520.21 L1735.91 1515.95 L1744.17 1514.29 L1748.85 1514.29 L1748.85 1544.91 L1756.49 1544.91 L1756.49 1548.85 L1736.58 1548.85 L1736.58 1544.91 Z\" fill=\"#000000\" fill-rule=\"evenodd\" fill-opacity=\"1\" /><path clip-path=\"url(#clip170)\" d=\"M1765.98 1514.29 L1784.33 1514.29 L1784.33 1518.22 L1770.26 1518.22 L1770.26 1526.7 Q1771.28 1526.35 1772.3 1526.19 Q1773.32 1526 1774.33 1526 Q1780.12 1526 1783.5 1529.17 Q1786.88 1532.34 1786.88 1537.76 Q1786.88 1543.34 1783.41 1546.44 Q1779.94 1549.52 1773.62 1549.52 Q1771.44 1549.52 1769.17 1549.15 Q1766.93 1548.78 1764.52 1548.04 L1764.52 1543.34 Q1766.6 1544.47 1768.83 1545.03 Q1771.05 1545.58 1773.52 1545.58 Q1777.53 1545.58 1779.87 1543.48 Q1782.21 1541.37 1782.21 1537.76 Q1782.21 1534.15 1779.87 1532.04 Q1777.53 1529.94 1773.52 1529.94 Q1771.65 1529.94 1769.77 1530.35 Q1767.92 1530.77 1765.98 1531.65 L1765.98 1514.29 Z\" fill=\"#000000\" fill-rule=\"evenodd\" fill-opacity=\"1\" /><path clip-path=\"url(#clip170)\" d=\"M2271.01 1544.91 L2287.33 1544.91 L2287.33 1548.85 L2265.39 1548.85 L2265.39 1544.91 Q2268.05 1542.16 2272.63 1537.53 Q2277.24 1532.88 2278.42 1531.53 Q2280.67 1529.01 2281.55 1527.27 Q2282.45 1525.51 2282.45 1523.82 Q2282.45 1521.07 2280.5 1519.33 Q2278.58 1517.6 2275.48 1517.6 Q2273.28 1517.6 2270.83 1518.36 Q2268.4 1519.13 2265.62 1520.68 L2265.62 1515.95 Q2268.44 1514.82 2270.9 1514.24 Q2273.35 1513.66 2275.39 1513.66 Q2280.76 1513.66 2283.95 1516.35 Q2287.15 1519.03 2287.15 1523.52 Q2287.15 1525.65 2286.34 1527.57 Q2285.55 1529.47 2283.44 1532.07 Q2282.86 1532.74 2279.76 1535.95 Q2276.66 1539.15 2271.01 1544.91 Z\" fill=\"#000000\" fill-rule=\"evenodd\" fill-opacity=\"1\" /><path clip-path=\"url(#clip170)\" d=\"M2307.15 1517.37 Q2303.54 1517.37 2301.71 1520.93 Q2299.9 1524.47 2299.9 1531.6 Q2299.9 1538.71 2301.71 1542.27 Q2303.54 1545.82 2307.15 1545.82 Q2310.78 1545.82 2312.59 1542.27 Q2314.42 1538.71 2314.42 1531.6 Q2314.42 1524.47 2312.59 1520.93 Q2310.78 1517.37 2307.15 1517.37 M2307.15 1513.66 Q2312.96 1513.66 2316.01 1518.27 Q2319.09 1522.85 2319.09 1531.6 Q2319.09 1540.33 2316.01 1544.94 Q2312.96 1549.52 2307.15 1549.52 Q2301.34 1549.52 2298.26 1544.94 Q2295.2 1540.33 2295.2 1531.6 Q2295.2 1522.85 2298.26 1518.27 Q2301.34 1513.66 2307.15 1513.66 Z\" fill=\"#000000\" fill-rule=\"evenodd\" fill-opacity=\"1\" /><polyline clip-path=\"url(#clip172)\" style=\"stroke:#000000; stroke-linecap:butt; stroke-linejoin:round; stroke-width:2; stroke-opacity:0.1; fill:none\" points=\"\n",
       "  214.515,1322.79 2352.76,1322.79 \n",
       "  \"/>\n",
       "<polyline clip-path=\"url(#clip172)\" style=\"stroke:#000000; stroke-linecap:butt; stroke-linejoin:round; stroke-width:2; stroke-opacity:0.1; fill:none\" points=\"\n",
       "  214.515,1056.83 2352.76,1056.83 \n",
       "  \"/>\n",
       "<polyline clip-path=\"url(#clip172)\" style=\"stroke:#000000; stroke-linecap:butt; stroke-linejoin:round; stroke-width:2; stroke-opacity:0.1; fill:none\" points=\"\n",
       "  214.515,790.87 2352.76,790.87 \n",
       "  \"/>\n",
       "<polyline clip-path=\"url(#clip172)\" style=\"stroke:#000000; stroke-linecap:butt; stroke-linejoin:round; stroke-width:2; stroke-opacity:0.1; fill:none\" points=\"\n",
       "  214.515,524.908 2352.76,524.908 \n",
       "  \"/>\n",
       "<polyline clip-path=\"url(#clip172)\" style=\"stroke:#000000; stroke-linecap:butt; stroke-linejoin:round; stroke-width:2; stroke-opacity:0.1; fill:none\" points=\"\n",
       "  214.515,258.946 2352.76,258.946 \n",
       "  \"/>\n",
       "<polyline clip-path=\"url(#clip170)\" style=\"stroke:#000000; stroke-linecap:butt; stroke-linejoin:round; stroke-width:4; stroke-opacity:1; fill:none\" points=\"\n",
       "  214.515,1486.45 214.515,47.2441 \n",
       "  \"/>\n",
       "<polyline clip-path=\"url(#clip170)\" style=\"stroke:#000000; stroke-linecap:butt; stroke-linejoin:round; stroke-width:4; stroke-opacity:1; fill:none\" points=\"\n",
       "  214.515,1322.79 233.412,1322.79 \n",
       "  \"/>\n",
       "<polyline clip-path=\"url(#clip170)\" style=\"stroke:#000000; stroke-linecap:butt; stroke-linejoin:round; stroke-width:4; stroke-opacity:1; fill:none\" points=\"\n",
       "  214.515,1056.83 233.412,1056.83 \n",
       "  \"/>\n",
       "<polyline clip-path=\"url(#clip170)\" style=\"stroke:#000000; stroke-linecap:butt; stroke-linejoin:round; stroke-width:4; stroke-opacity:1; fill:none\" points=\"\n",
       "  214.515,790.87 233.412,790.87 \n",
       "  \"/>\n",
       "<polyline clip-path=\"url(#clip170)\" style=\"stroke:#000000; stroke-linecap:butt; stroke-linejoin:round; stroke-width:4; stroke-opacity:1; fill:none\" points=\"\n",
       "  214.515,524.908 233.412,524.908 \n",
       "  \"/>\n",
       "<polyline clip-path=\"url(#clip170)\" style=\"stroke:#000000; stroke-linecap:butt; stroke-linejoin:round; stroke-width:4; stroke-opacity:1; fill:none\" points=\"\n",
       "  214.515,258.946 233.412,258.946 \n",
       "  \"/>\n",
       "<path clip-path=\"url(#clip170)\" d=\"M52.8208 1336.14 L60.4597 1336.14 L60.4597 1309.77 L52.1495 1311.44 L52.1495 1307.18 L60.4134 1305.51 L65.0893 1305.51 L65.0893 1336.14 L72.7281 1336.14 L72.7281 1340.07 L52.8208 1340.07 L52.8208 1336.14 Z\" fill=\"#000000\" fill-rule=\"evenodd\" fill-opacity=\"1\" /><path clip-path=\"url(#clip170)\" d=\"M95.0197 1309.59 L83.2142 1328.04 L95.0197 1328.04 L95.0197 1309.59 M93.7928 1305.51 L99.6724 1305.51 L99.6724 1328.04 L104.603 1328.04 L104.603 1331.92 L99.6724 1331.92 L99.6724 1340.07 L95.0197 1340.07 L95.0197 1331.92 L79.4179 1331.92 L79.4179 1327.41 L93.7928 1305.51 Z\" fill=\"#000000\" fill-rule=\"evenodd\" fill-opacity=\"1\" /><path clip-path=\"url(#clip170)\" d=\"M112.334 1334.19 L117.219 1334.19 L117.219 1340.07 L112.334 1340.07 L112.334 1334.19 Z\" fill=\"#000000\" fill-rule=\"evenodd\" fill-opacity=\"1\" /><path clip-path=\"url(#clip170)\" d=\"M137.404 1308.59 Q133.793 1308.59 131.964 1312.16 Q130.158 1315.7 130.158 1322.83 Q130.158 1329.93 131.964 1333.5 Q133.793 1337.04 137.404 1337.04 Q141.038 1337.04 142.843 1333.5 Q144.672 1329.93 144.672 1322.83 Q144.672 1315.7 142.843 1312.16 Q141.038 1308.59 137.404 1308.59 M137.404 1304.89 Q143.214 1304.89 146.269 1309.49 Q149.348 1314.08 149.348 1322.83 Q149.348 1331.55 146.269 1336.16 Q143.214 1340.74 137.404 1340.74 Q131.594 1340.74 128.515 1336.16 Q125.459 1331.55 125.459 1322.83 Q125.459 1314.08 128.515 1309.49 Q131.594 1304.89 137.404 1304.89 Z\" fill=\"#000000\" fill-rule=\"evenodd\" fill-opacity=\"1\" /><path clip-path=\"url(#clip170)\" d=\"M157.612 1305.51 L175.968 1305.51 L175.968 1309.45 L161.894 1309.45 L161.894 1317.92 Q162.913 1317.57 163.931 1317.41 Q164.95 1317.23 165.968 1317.23 Q171.755 1317.23 175.135 1320.4 Q178.515 1323.57 178.515 1328.98 Q178.515 1334.56 175.042 1337.67 Q171.57 1340.74 165.251 1340.74 Q163.075 1340.74 160.806 1340.37 Q158.561 1340 156.154 1339.26 L156.154 1334.56 Q158.237 1335.7 160.459 1336.25 Q162.681 1336.81 165.158 1336.81 Q169.163 1336.81 171.501 1334.7 Q173.839 1332.6 173.839 1328.98 Q173.839 1325.37 171.501 1323.27 Q169.163 1321.16 165.158 1321.16 Q163.283 1321.16 161.408 1321.58 Q159.556 1321.99 157.612 1322.87 L157.612 1305.51 Z\" fill=\"#000000\" fill-rule=\"evenodd\" fill-opacity=\"1\" /><path clip-path=\"url(#clip170)\" d=\"M51.6634 1070.18 L59.3023 1070.18 L59.3023 1043.81 L50.9921 1045.48 L50.9921 1041.22 L59.256 1039.55 L63.9319 1039.55 L63.9319 1070.18 L71.5707 1070.18 L71.5707 1074.11 L51.6634 1074.11 L51.6634 1070.18 Z\" fill=\"#000000\" fill-rule=\"evenodd\" fill-opacity=\"1\" /><path clip-path=\"url(#clip170)\" d=\"M93.8623 1043.63 L82.0568 1062.07 L93.8623 1062.07 L93.8623 1043.63 M92.6354 1039.55 L98.515 1039.55 L98.515 1062.07 L103.446 1062.07 L103.446 1065.96 L98.515 1065.96 L98.515 1074.11 L93.8623 1074.11 L93.8623 1065.96 L78.2605 1065.96 L78.2605 1061.45 L92.6354 1039.55 Z\" fill=\"#000000\" fill-rule=\"evenodd\" fill-opacity=\"1\" /><path clip-path=\"url(#clip170)\" d=\"M111.177 1068.23 L116.061 1068.23 L116.061 1074.11 L111.177 1074.11 L111.177 1068.23 Z\" fill=\"#000000\" fill-rule=\"evenodd\" fill-opacity=\"1\" /><path clip-path=\"url(#clip170)\" d=\"M136.246 1042.63 Q132.635 1042.63 130.807 1046.19 Q129.001 1049.74 129.001 1056.87 Q129.001 1063.97 130.807 1067.54 Q132.635 1071.08 136.246 1071.08 Q139.881 1071.08 141.686 1067.54 Q143.515 1063.97 143.515 1056.87 Q143.515 1049.74 141.686 1046.19 Q139.881 1042.63 136.246 1042.63 M136.246 1038.93 Q142.056 1038.93 145.112 1043.53 Q148.191 1048.12 148.191 1056.87 Q148.191 1065.59 145.112 1070.2 Q142.056 1074.78 136.246 1074.78 Q130.436 1074.78 127.357 1070.2 Q124.302 1065.59 124.302 1056.87 Q124.302 1048.12 127.357 1043.53 Q130.436 1038.93 136.246 1038.93 Z\" fill=\"#000000\" fill-rule=\"evenodd\" fill-opacity=\"1\" /><path clip-path=\"url(#clip170)\" d=\"M166.987 1054.97 Q163.839 1054.97 161.987 1057.12 Q160.158 1059.27 160.158 1063.02 Q160.158 1066.75 161.987 1068.93 Q163.839 1071.08 166.987 1071.08 Q170.135 1071.08 171.964 1068.93 Q173.816 1066.75 173.816 1063.02 Q173.816 1059.27 171.964 1057.12 Q170.135 1054.97 166.987 1054.97 M176.269 1040.32 L176.269 1044.57 Q174.51 1043.74 172.704 1043.3 Q170.922 1042.86 169.163 1042.86 Q164.533 1042.86 162.079 1045.99 Q159.649 1049.11 159.302 1055.43 Q160.667 1053.42 162.728 1052.35 Q164.788 1051.26 167.265 1051.26 Q172.473 1051.26 175.482 1054.44 Q178.515 1057.58 178.515 1063.02 Q178.515 1068.35 175.366 1071.56 Q172.218 1074.78 166.987 1074.78 Q160.992 1074.78 157.82 1070.2 Q154.649 1065.59 154.649 1056.87 Q154.649 1048.67 158.538 1043.81 Q162.427 1038.93 168.978 1038.93 Q170.737 1038.93 172.519 1039.27 Q174.325 1039.62 176.269 1040.32 Z\" fill=\"#000000\" fill-rule=\"evenodd\" fill-opacity=\"1\" /><path clip-path=\"url(#clip170)\" d=\"M52.7282 804.214 L60.3671 804.214 L60.3671 777.849 L52.0569 779.516 L52.0569 775.256 L60.3208 773.59 L64.9967 773.59 L64.9967 804.214 L72.6355 804.214 L72.6355 808.15 L52.7282 808.15 L52.7282 804.214 Z\" fill=\"#000000\" fill-rule=\"evenodd\" fill-opacity=\"1\" /><path clip-path=\"url(#clip170)\" d=\"M94.9271 777.664 L83.1216 796.113 L94.9271 796.113 L94.9271 777.664 M93.7002 773.59 L99.5798 773.59 L99.5798 796.113 L104.51 796.113 L104.51 800.002 L99.5798 800.002 L99.5798 808.15 L94.9271 808.15 L94.9271 800.002 L79.3253 800.002 L79.3253 795.488 L93.7002 773.59 Z\" fill=\"#000000\" fill-rule=\"evenodd\" fill-opacity=\"1\" /><path clip-path=\"url(#clip170)\" d=\"M112.242 802.27 L117.126 802.27 L117.126 808.15 L112.242 808.15 L112.242 802.27 Z\" fill=\"#000000\" fill-rule=\"evenodd\" fill-opacity=\"1\" /><path clip-path=\"url(#clip170)\" d=\"M137.311 776.668 Q133.7 776.668 131.871 780.233 Q130.066 783.775 130.066 790.904 Q130.066 798.011 131.871 801.576 Q133.7 805.117 137.311 805.117 Q140.945 805.117 142.751 801.576 Q144.58 798.011 144.58 790.904 Q144.58 783.775 142.751 780.233 Q140.945 776.668 137.311 776.668 M137.311 772.965 Q143.121 772.965 146.177 777.571 Q149.255 782.154 149.255 790.904 Q149.255 799.631 146.177 804.238 Q143.121 808.821 137.311 808.821 Q131.501 808.821 128.422 804.238 Q125.367 799.631 125.367 790.904 Q125.367 782.154 128.422 777.571 Q131.501 772.965 137.311 772.965 Z\" fill=\"#000000\" fill-rule=\"evenodd\" fill-opacity=\"1\" /><path clip-path=\"url(#clip170)\" d=\"M156.292 773.59 L178.515 773.59 L178.515 775.58 L165.968 808.15 L161.084 808.15 L172.89 777.525 L156.292 777.525 L156.292 773.59 Z\" fill=\"#000000\" fill-rule=\"evenodd\" fill-opacity=\"1\" /><path clip-path=\"url(#clip170)\" d=\"M51.918 538.253 L59.5569 538.253 L59.5569 511.887 L51.2468 513.554 L51.2468 509.295 L59.5106 507.628 L64.1865 507.628 L64.1865 538.253 L71.8253 538.253 L71.8253 542.188 L51.918 542.188 L51.918 538.253 Z\" fill=\"#000000\" fill-rule=\"evenodd\" fill-opacity=\"1\" /><path clip-path=\"url(#clip170)\" d=\"M94.1169 511.702 L82.3114 530.151 L94.1169 530.151 L94.1169 511.702 M92.89 507.628 L98.7696 507.628 L98.7696 530.151 L103.7 530.151 L103.7 534.04 L98.7696 534.04 L98.7696 542.188 L94.1169 542.188 L94.1169 534.04 L78.5151 534.04 L78.5151 529.526 L92.89 507.628 Z\" fill=\"#000000\" fill-rule=\"evenodd\" fill-opacity=\"1\" /><path clip-path=\"url(#clip170)\" d=\"M111.432 536.308 L116.316 536.308 L116.316 542.188 L111.432 542.188 L111.432 536.308 Z\" fill=\"#000000\" fill-rule=\"evenodd\" fill-opacity=\"1\" /><path clip-path=\"url(#clip170)\" d=\"M136.501 510.707 Q132.89 510.707 131.061 514.272 Q129.256 517.813 129.256 524.943 Q129.256 532.049 131.061 535.614 Q132.89 539.156 136.501 539.156 Q140.135 539.156 141.941 535.614 Q143.769 532.049 143.769 524.943 Q143.769 517.813 141.941 514.272 Q140.135 510.707 136.501 510.707 M136.501 507.003 Q142.311 507.003 145.367 511.61 Q148.445 516.193 148.445 524.943 Q148.445 533.67 145.367 538.276 Q142.311 542.859 136.501 542.859 Q130.691 542.859 127.612 538.276 Q124.557 533.67 124.557 524.943 Q124.557 516.193 127.612 511.61 Q130.691 507.003 136.501 507.003 Z\" fill=\"#000000\" fill-rule=\"evenodd\" fill-opacity=\"1\" /><path clip-path=\"url(#clip170)\" d=\"M166.663 525.776 Q163.329 525.776 161.408 527.559 Q159.51 529.341 159.51 532.466 Q159.51 535.591 161.408 537.373 Q163.329 539.156 166.663 539.156 Q169.996 539.156 171.917 537.373 Q173.839 535.568 173.839 532.466 Q173.839 529.341 171.917 527.559 Q170.019 525.776 166.663 525.776 M161.987 523.785 Q158.978 523.045 157.288 520.984 Q155.621 518.924 155.621 515.961 Q155.621 511.818 158.561 509.41 Q161.524 507.003 166.663 507.003 Q171.825 507.003 174.765 509.41 Q177.704 511.818 177.704 515.961 Q177.704 518.924 176.015 520.984 Q174.348 523.045 171.362 523.785 Q174.741 524.572 176.616 526.864 Q178.515 529.156 178.515 532.466 Q178.515 537.489 175.436 540.174 Q172.38 542.859 166.663 542.859 Q160.945 542.859 157.867 540.174 Q154.811 537.489 154.811 532.466 Q154.811 529.156 156.709 526.864 Q158.607 524.572 161.987 523.785 M160.274 516.401 Q160.274 519.086 161.941 520.591 Q163.63 522.096 166.663 522.096 Q169.672 522.096 171.362 520.591 Q173.075 519.086 173.075 516.401 Q173.075 513.716 171.362 512.211 Q169.672 510.707 166.663 510.707 Q163.63 510.707 161.941 512.211 Q160.274 513.716 160.274 516.401 Z\" fill=\"#000000\" fill-rule=\"evenodd\" fill-opacity=\"1\" /><path clip-path=\"url(#clip170)\" d=\"M52.0106 272.291 L59.6495 272.291 L59.6495 245.926 L51.3393 247.592 L51.3393 243.333 L59.6032 241.666 L64.2791 241.666 L64.2791 272.291 L71.9179 272.291 L71.9179 276.226 L52.0106 276.226 L52.0106 272.291 Z\" fill=\"#000000\" fill-rule=\"evenodd\" fill-opacity=\"1\" /><path clip-path=\"url(#clip170)\" d=\"M94.2095 245.741 L82.404 264.19 L94.2095 264.19 L94.2095 245.741 M92.9826 241.666 L98.8622 241.666 L98.8622 264.19 L103.793 264.19 L103.793 268.078 L98.8622 268.078 L98.8622 276.226 L94.2095 276.226 L94.2095 268.078 L78.6077 268.078 L78.6077 263.565 L92.9826 241.666 Z\" fill=\"#000000\" fill-rule=\"evenodd\" fill-opacity=\"1\" /><path clip-path=\"url(#clip170)\" d=\"M111.524 270.347 L116.408 270.347 L116.408 276.226 L111.524 276.226 L111.524 270.347 Z\" fill=\"#000000\" fill-rule=\"evenodd\" fill-opacity=\"1\" /><path clip-path=\"url(#clip170)\" d=\"M136.594 244.745 Q132.982 244.745 131.154 248.31 Q129.348 251.852 129.348 258.981 Q129.348 266.088 131.154 269.652 Q132.982 273.194 136.594 273.194 Q140.228 273.194 142.033 269.652 Q143.862 266.088 143.862 258.981 Q143.862 251.852 142.033 248.31 Q140.228 244.745 136.594 244.745 M136.594 241.041 Q142.404 241.041 145.459 245.648 Q148.538 250.231 148.538 258.981 Q148.538 267.708 145.459 272.314 Q142.404 276.898 136.594 276.898 Q130.783 276.898 127.705 272.314 Q124.649 267.708 124.649 258.981 Q124.649 250.231 127.705 245.648 Q130.783 241.041 136.594 241.041 Z\" fill=\"#000000\" fill-rule=\"evenodd\" fill-opacity=\"1\" /><path clip-path=\"url(#clip170)\" d=\"M156.894 275.509 L156.894 271.25 Q158.654 272.083 160.459 272.523 Q162.265 272.963 164.001 272.963 Q168.63 272.963 171.061 269.861 Q173.515 266.736 173.862 260.393 Q172.519 262.384 170.459 263.449 Q168.399 264.514 165.899 264.514 Q160.714 264.514 157.681 261.389 Q154.672 258.24 154.672 252.801 Q154.672 247.477 157.82 244.259 Q160.968 241.041 166.2 241.041 Q172.195 241.041 175.343 245.648 Q178.515 250.231 178.515 258.981 Q178.515 267.152 174.626 272.037 Q170.76 276.898 164.209 276.898 Q162.45 276.898 160.644 276.551 Q158.839 276.203 156.894 275.509 M166.2 260.856 Q169.348 260.856 171.177 258.703 Q173.029 256.551 173.029 252.801 Q173.029 249.074 171.177 246.921 Q169.348 244.745 166.2 244.745 Q163.052 244.745 161.2 246.921 Q159.371 249.074 159.371 252.801 Q159.371 256.551 161.2 258.703 Q163.052 260.856 166.2 260.856 Z\" fill=\"#000000\" fill-rule=\"evenodd\" fill-opacity=\"1\" /><polyline clip-path=\"url(#clip172)\" style=\"stroke:#009af9; stroke-linecap:butt; stroke-linejoin:round; stroke-width:4; stroke-opacity:1; fill:none\" points=\"\n",
       "  275.031,1270.11 381.2,1270.11 487.369,1268.3 593.538,87.9763 699.706,505.511 805.875,935.233 912.044,879.784 1018.21,1030.54 1124.38,800.872 1230.55,1191.12 \n",
       "  1336.72,1219.16 1442.89,1107.47 1549.06,1102.31 1655.23,1046.06 1761.4,1269.22 1867.56,1383.33 1973.73,1135.33 2079.9,1135.32 2186.07,1219.15 2292.24,1445.72 \n",
       "  \n",
       "  \"/>\n",
       "<path clip-path=\"url(#clip170)\" d=\"\n",
       "M1991.47 198.898 L2281.48 198.898 L2281.48 95.2176 L1991.47 95.2176  Z\n",
       "  \" fill=\"#ffffff\" fill-rule=\"evenodd\" fill-opacity=\"1\"/>\n",
       "<polyline clip-path=\"url(#clip170)\" style=\"stroke:#000000; stroke-linecap:butt; stroke-linejoin:round; stroke-width:4; stroke-opacity:1; fill:none\" points=\"\n",
       "  1991.47,198.898 2281.48,198.898 2281.48,95.2176 1991.47,95.2176 1991.47,198.898 \n",
       "  \"/>\n",
       "<polyline clip-path=\"url(#clip170)\" style=\"stroke:#009af9; stroke-linecap:butt; stroke-linejoin:round; stroke-width:4; stroke-opacity:1; fill:none\" points=\"\n",
       "  2015.23,147.058 2157.78,147.058 \n",
       "  \"/>\n",
       "<path clip-path=\"url(#clip170)\" d=\"M2195.38 166.745 Q2193.57 171.375 2191.86 172.787 Q2190.15 174.199 2187.28 174.199 L2183.87 174.199 L2183.87 170.634 L2186.37 170.634 Q2188.13 170.634 2189.1 169.8 Q2190.08 168.967 2191.26 165.865 L2192.02 163.921 L2181.53 138.412 L2186.05 138.412 L2194.15 158.689 L2202.25 138.412 L2206.77 138.412 L2195.38 166.745 Z\" fill=\"#000000\" fill-rule=\"evenodd\" fill-opacity=\"1\" /><path clip-path=\"url(#clip170)\" d=\"M2214.06 160.402 L2221.7 160.402 L2221.7 134.037 L2213.39 135.703 L2213.39 131.444 L2221.65 129.778 L2226.33 129.778 L2226.33 160.402 L2233.96 160.402 L2233.96 164.338 L2214.06 164.338 L2214.06 160.402 Z\" fill=\"#000000\" fill-rule=\"evenodd\" fill-opacity=\"1\" /></svg>\n"
      ]
     },
     "metadata": {},
     "output_type": "display_data"
    },
    {
     "name": "stdout",
     "output_type": "stream",
     "text": [
      "558.324218 seconds (12.87 G allocations: 338.380 GiB, 6.03% gc time, 0.00% compilation time)\n"
     ]
    },
    {
     "data": {
      "text/plain": [
       "(14.034350806244355, Any[[291, 292], [260, 291], [289, 290], [259, 289], [238, 259], [237, 286], [258, 288], [258, 287], [237, 258], [215, 237]  …  [1, 130], [1, 6], [1, 196], [1, 195], [1, 197], [1, 217], [1, 239], [1, 260], [1, 240], [1, 293]], Set{Vector{Int64}}())"
      ]
     },
     "execution_count": 24,
     "metadata": {},
     "output_type": "execute_result"
    }
   ],
   "source": [
    "@time begin\n",
    "    fn_min,min_fn_order,min_fn_slice = simulated_annealing!(ct,tn,βs,optimal_type;optimal_arg,sc_target,nslice)\n",
    "end\n",
    "#fn_min,min_fn_order = simulated_annealing!(ct,betas,optimal_type;optimal_arg)"
   ]
  },
  {
   "cell_type": "code",
   "execution_count": 26,
   "id": "17dc1b71",
   "metadata": {},
   "outputs": [
    {
     "data": {
      "text/plain": [
       "Set{Vector{Int64}}()"
      ]
     },
     "execution_count": 26,
     "metadata": {},
     "output_type": "execute_result"
    }
   ],
   "source": [
    "#unique(ct.slice)\n",
    "min_fn_slice"
   ]
  },
  {
   "cell_type": "code",
   "execution_count": 27,
   "id": "57e1d32b",
   "metadata": {
    "scrolled": true
   },
   "outputs": [
    {
     "name": "stdout",
     "output_type": "stream",
     "text": [
      "  0.012765 seconds (161.22 k allocations: 4.575 MiB)\n",
      "sc = 39.0, tc = 14.045378173181792\n",
      "1.0823078446163372e14\n"
     ]
    }
   ],
   "source": [
    "@time begin\n",
    "    update_complex!(ct,ct.nodes[ct.root])\n",
    "end\n",
    "sc = ct.nodes[ct.root].complex[1]\n",
    "tc = ct.nodes[ct.root].complex[2]*log10(2)\n",
    "println(\"sc = $sc, tc = $tc\")\n",
    "#println(ct.nodes[ct.root].complex[1].*log10(2))\n",
    "#log2sumexp([node.tc for node in collect(values(ct.nodes))])*log10(2)\n",
    "println(10^fn_min)"
   ]
  },
  {
   "cell_type": "code",
   "execution_count": null,
   "id": "7ae9de04",
   "metadata": {},
   "outputs": [],
   "source": [
    "min_fn_list = []\n",
    "βs = [log(1+2n) for n=1:200]\n",
    "L = 20\n",
    "c = 20\n",
    "n_orders = 10\n",
    "optimal_type = \"greedy\"\n",
    "optimal_arg = [L,c,n_orders]\n",
    "sc_target = 0 # sc_target = 31 for V100\n",
    "nslice = 9\n",
    "for i = 1:10\n",
    "    tn = graph_read_from_edges(\"test/Sycamore_53_12.txt\")\n",
    "    min_sc_order, min_tc_order,orders = greedy_orders(tn,\"mindim\",\"mindimtri\",100)\n",
    "    ct = order_to_CTree(tn,min_tc_order[1])\n",
    "    fn_min,min_fn_order,min_fn_slice = simulated_annealing!(ct,tn,βs,optimal_type;optimal_arg,sc_target,nslice)\n",
    "    push!(min_fn_list,fn_min)\n",
    "end"
   ]
  },
  {
   "cell_type": "code",
   "execution_count": null,
   "id": "330e957e",
   "metadata": {},
   "outputs": [],
   "source": []
  },
  {
   "cell_type": "markdown",
   "id": "cf8a087f",
   "metadata": {},
   "source": [
    "### Test 3\n",
    "contraction with sparse state."
   ]
  },
  {
   "cell_type": "code",
   "execution_count": null,
   "id": "b3e89dce",
   "metadata": {},
   "outputs": [],
   "source": [
    "using Random\n",
    "using Plots\n",
    "gr(show = :ijulia)\n",
    "include(\"tensor_network.jl\")\n",
    "include(\"contraction_tree.jl\")\n",
    "include(\"simulated_annealing.jl\")\n",
    "include(\"utils.jl\")\n",
    "include(\"greedy.jl\")\n",
    "include(\"quantum_circuit.jl\")"
   ]
  },
  {
   "cell_type": "code",
   "execution_count": null,
   "id": "d9d6f853",
   "metadata": {},
   "outputs": [],
   "source": [
    "n_qubits = 53\n",
    "sequences = generate_random_sequences(n_qubits,100)\n",
    "qc = graph_with_sparse_state(\"test/Sycamore_53_20.txt\",n_qubits,sequences)\n",
    "@time begin\n",
    "    min_sc_order, min_tc_order,orders = greedy_orders(qc.G,\"mindim\",\"mindimtri\",50)\n",
    "end\n",
    "print(qc.G.n)"
   ]
  }
 ],
 "metadata": {
  "kernelspec": {
   "display_name": "Julia 1.7.2",
   "language": "julia",
   "name": "julia-1.7"
  },
  "language_info": {
   "file_extension": ".jl",
   "mimetype": "application/julia",
   "name": "julia",
   "version": "1.7.2"
  }
 },
 "nbformat": 4,
 "nbformat_minor": 5
}
