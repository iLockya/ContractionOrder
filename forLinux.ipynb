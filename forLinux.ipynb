{
 "cells": [
  {
   "cell_type": "code",
   "execution_count": 1,
   "id": "4d9df400",
   "metadata": {},
   "outputs": [
    {
     "data": {
      "text/plain": [
       "optimal_order_2_greedy_init (generic function with 2 methods)"
      ]
     },
     "execution_count": 1,
     "metadata": {},
     "output_type": "execute_result"
    }
   ],
   "source": [
    "include(\"tensor_network.jl\")\n",
    "include(\"contraction_tree.jl\")\n",
    "include(\"simulated_annealing.jl\")\n",
    "include(\"utils.jl\")\n",
    "include(\"greedy.jl\")"
   ]
  },
  {
   "cell_type": "code",
   "execution_count": null,
   "id": "0cdfd722",
   "metadata": {
    "scrolled": true
   },
   "outputs": [],
   "source": [
    "min_fn_list = []\n",
    "slice_list = []\n",
    "βs = [log(1+2n) for n=1:200]\n",
    "L = 20\n",
    "c = 30\n",
    "n_orders = 10\n",
    "optimal_type = \"greedy\"\n",
    "optimal_arg = [L,c,n_orders]\n",
    "sc_target = 31 # sc_target = 31 for V100, 28.322 for 5GB\n",
    "nslice = 0\n",
    "for i = 1:30\n",
    "    tn = graph_read_from_edges(\"test/Sycamore_53_20.txt\")\n",
    "    min_sc_order, min_tc_order,orders = greedy_orders(tn,\"mindim\",\"mindimtri\",100)\n",
    "    ct = order_to_CTree(tn,min_tc_order[1])\n",
    "    fn_min,min_fn_order,min_fn_slice = simulated_annealing!(ct,tn,βs,optimal_type;optimal_arg,sc_target)\n",
    "    push!(min_fn_list,fn_min)\n",
    "    push!(slice_list,min_fn_slice)\n",
    "end"
   ]
  },
  {
   "cell_type": "code",
   "execution_count": null,
   "id": "6da7dbd9",
   "metadata": {},
   "outputs": [],
   "source": [
    "idx = argmin(min_fn_list)\n",
    "tc = 10^min_fn_list[idx]\n",
    "slice = slice_list[idx]\n",
    "n = length(slice)\n",
    "println(\"tc = $tc, n = $n\")"
   ]
  },
  {
   "cell_type": "code",
   "execution_count": null,
   "id": "70836a95",
   "metadata": {
    "scrolled": true
   },
   "outputs": [],
   "source": [
    "println(min_fn_list.+length.(slice_list)*log10(2))#.+slice_list)\n",
    "println(length.(slice_list))"
   ]
  },
  {
   "cell_type": "code",
   "execution_count": null,
   "id": "684b3c5a",
   "metadata": {},
   "outputs": [],
   "source": [
    "i = 6\n",
    "println(10^min_fn_list[i])\n",
    "println(length(slice_list[i]))"
   ]
  },
  {
   "cell_type": "code",
   "execution_count": null,
   "id": "db8fb564",
   "metadata": {},
   "outputs": [],
   "source": []
  }
 ],
 "metadata": {
  "kernelspec": {
   "display_name": "Julia 1.7.2",
   "language": "julia",
   "name": "julia-1.7"
  },
  "language_info": {
   "file_extension": ".jl",
   "mimetype": "application/julia",
   "name": "julia",
   "version": "1.7.2"
  }
 },
 "nbformat": 4,
 "nbformat_minor": 5
}
